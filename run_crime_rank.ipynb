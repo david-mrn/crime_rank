{
 "cells": [
  {
   "cell_type": "markdown",
   "metadata": {},
   "source": [
    "# Running CrimeRank"
   ]
  },
  {
   "cell_type": "markdown",
   "metadata": {},
   "source": [
    "### Functions"
   ]
  },
  {
   "cell_type": "code",
   "execution_count": 21,
   "metadata": {
    "scrolled": true
   },
   "outputs": [],
   "source": [
    "def grad_calc_on(y, s, k):\n",
    "    \n",
    "    N = len(y)\n",
    "    lambda_ = np.zeros((N, 1))\n",
    "    in_or_out = np.zeros((N, 1))\n",
    "\n",
    "    idx = np.argsort(s, axis=0)[::-1]\n",
    "    idx = np.argsort(idx, axis=0)\n",
    "\n",
    "    for i in range(N):\n",
    "        if idx[i] <= k:\n",
    "            in_or_out[i] = 1\n",
    "\n",
    "    for i in range(N):\n",
    "        for j in range(1, N):\n",
    "            if (y[i] != y[j]) & (in_or_out[i] != in_or_out[j]):\n",
    "                DZ = y[i] - y[j]\n",
    "\n",
    "                if y[i] > y[j]:\n",
    "                    rho = 1 / (1 + np.exp(s[i] - s[j]))\n",
    "                    lambda_[i] = lambda_[i] + rho*np.abs(DZ)\n",
    "                    lambda_[j] = lambda_[j] - rho*np.abs(DZ)\n",
    "                else:\n",
    "                    rho = 1 / (1 + np.exp(s[j] - s[i]))\n",
    "                    lambda_[i] = lambda_[i] - rho*np.abs(DZ)\n",
    "                    lambda_[j] = lambda_[j] + rho*np.abs(DZ)\n",
    "\n",
    "    return lambda_"
   ]
  },
  {
   "cell_type": "code",
   "execution_count": 22,
   "metadata": {
    "scrolled": true
   },
   "outputs": [],
   "source": [
    "def PAI_error(y, s, k):\n",
    "\n",
    "    n_days = len(y)\n",
    "    e = np.zeros((n_days, 1))\n",
    "    crime = np.zeros((n_days, 1))\n",
    "    y_top_k = np.zeros((k, 1))\n",
    "\n",
    "    for i in range(n_days):\n",
    "        idx = np.argsort(s[i], axis=0)[::-1]\n",
    "        ys = y[i]\n",
    "        ys = ys[idx]\n",
    "        if len(y_top_k) != len(ys[:k]):\n",
    "            continue\n",
    "        else:\n",
    "            y_top_k = y_top_k + ys[:k] \n",
    "            e[i] = sum(ys[:k])\n",
    "            crime[i] = sum(ys)\n",
    "        \n",
    "    crimes_top_k = sum(e)\n",
    "    PAI = crimes_top_k / sum(crime)\n",
    "    y_top_k = np.sort(y_top_k)[::-1]\n",
    "\n",
    "    return PAI, y_top_k"
   ]
  },
  {
   "cell_type": "code",
   "execution_count": 23,
   "metadata": {
    "scrolled": true
   },
   "outputs": [],
   "source": [
    "from shapely.geometry import Polygon\n",
    "def check_intersection(box_1, box_2):\n",
    "\n",
    "    poly_1 = np.asarray([k for k in zip(box_1[0], box_1[1])])\n",
    "    poly_1 = Polygon(poly_1)\n",
    "    \n",
    "    poly_2 = np.asarray([k for k in zip(box_2[0], box_2[1])])\n",
    "    poly_2 = Polygon(poly_2)\n",
    "\n",
    "    if poly_1.intersects(poly_2):\n",
    "        return 1\n",
    "    else:\n",
    "        return 0   "
   ]
  },
  {
   "cell_type": "code",
   "execution_count": 26,
   "metadata": {
    "scrolled": true
   },
   "outputs": [],
   "source": [
    "# pip install ismember\n",
    "from ismember import ismember\n",
    "def sort_greedy(cell_locations, s, k):\n",
    "\n",
    "    N = len(cell_locations)\n",
    "    cell_temp = cell_locations\n",
    "    cell_idx = np.argsort(s, axis=0)[::-1]\n",
    "    cell_locations = np.asarray(cell_locations)[cell_idx[:N]] # ordered by score\n",
    "    s = s[cell_idx[:N]] # ordered score\n",
    "    cell_locations_2 = []\n",
    "    cell_locations_2.append(cell_locations[0])\n",
    "\n",
    "    count = 1\n",
    "    j = 0\n",
    "    while count < k:\n",
    "        output = np.ones((count, 1))\n",
    "        while max(output) == 1:\n",
    "            j += 1\n",
    "            for i in range(count):\n",
    "                output[i] = check_intersection(np.squeeze(cell_locations_2[i]), \n",
    "                                                np.squeeze(cell_locations[j]))\n",
    "                if output[i] == 1:\n",
    "                    break\n",
    "\n",
    "        cell_locations_2.append(cell_locations[j])\n",
    "        count += 1\n",
    "\n",
    "    top_locations = cell_locations_2\n",
    "    c1 = np.zeros((len(cell_temp), 8))\n",
    "    c2 = np.zeros((len(top_locations), 8))\n",
    "\n",
    "    for i in range(len(cell_temp)):\n",
    "        c1[i] = [k for k in cell_temp[i][0]] + [k for k in cell_temp[i][1]]\n",
    "    \n",
    "    for i in range(len(top_locations)):\n",
    "        c2[i] = [k for k in np.squeeze(top_locations[i])[0]] + \\\n",
    "                [k for k in np.squeeze(top_locations[i])[1]]\n",
    "\n",
    "    top_indices = ismember(c1, c2, 'rows')\n",
    "    top_indices = np.flatnonzero(top_indices[0])\n",
    "    \n",
    "    return top_locations, top_indices"
   ]
  },
  {
   "cell_type": "code",
   "execution_count": 27,
   "metadata": {
    "scrolled": true
   },
   "outputs": [],
   "source": [
    "def PAI_error_off(y, s, k, cell_locations):\n",
    "\n",
    "    n_days = len(y)\n",
    "    e = np.zeros((n_days,1))\n",
    "    crime = np.zeros((n_days,1))\n",
    "    y_top_k = np.zeros((k, 1))\n",
    "\n",
    "    for i in range(n_days):\n",
    "        top_locations, top_indices = sort_greedy(cell_locations, s[i], k)\n",
    "        ys = y[i][top_indices]\n",
    "        y_top_k = y_top_k + ys[:k]\n",
    "        e[i] = np.sum(ys)\n",
    "        crime[i] = np.sum(y[i])\n",
    "        \n",
    "    crimes_top_k = np.sum(e)\n",
    "    PAI = crimes_top_k / np.sum(crime)\n",
    "    y_top_k = np.sort(y_top_k)[::-1]\n",
    "\n",
    "    return PAI, y_top_k, top_locations"
   ]
  },
  {
   "cell_type": "markdown",
   "metadata": {},
   "source": [
    "### Running the algorithm"
   ]
  },
  {
   "cell_type": "code",
   "execution_count": 103,
   "metadata": {
    "scrolled": true
   },
   "outputs": [],
   "source": [
    "train_n_days = len(Y_train)\n",
    "test_n_days = len(Y_test)\n",
    "\n",
    "for i in range(train_n_days):\n",
    "    Y_train[i] = Y_train[i][X_train[i][-1] / np.max(X_train[i][-1]) > 0.01]\n",
    "    for j in range(4):\n",
    "        X_train[i][j] = X_train[i][j][X_train[i][-1] / np.max(X_train[i][-1]) > 0.01]\n",
    "\n",
    "S = []\n",
    "for i in range(train_n_days):\n",
    "    S.append(np.random.randn(len(Y_train[i]), 1))\n",
    "\n",
    "St = []\n",
    "for i in range(test_n_days):\n",
    "    St.append(np.random.randn(len(Y_test[i]), 1))\n",
    "\n",
    "N1 = np.zeros((train_n_days, 1))\n",
    "for i in range(train_n_days):\n",
    "    N1[i] = len(Y_train[i])\n",
    "\n",
    "XTR = np.zeros((int(sum(N1)), len(X_train[0])))\n",
    "YTR = np.zeros((int(sum(N1)), 1))\n",
    "\n",
    "\n",
    "XTR[:int(N1[0])] = np.asarray(X_train[0]).T\n",
    "YTR[:int(N1[0])] = np.reshape(np.asarray(Y_train[0]).T, (-1,1))\n",
    "for i in range(1, train_n_days):\n",
    "    start = int(sum(N1[:i]))\n",
    "    end = int(sum(N1[:i+1]))\n",
    "    XTR[start: end] = np.asarray(X_train[i]).T\n",
    "    YTR[start: end] = np.reshape(np.asarray(Y_train[i]).T, (-1,1))"
   ]
  },
  {
   "cell_type": "code",
   "execution_count": null,
   "metadata": {},
   "outputs": [],
   "source": [
    "import copy\n",
    "from sklearn.tree import DecisionTreeRegressor\n",
    "\n",
    "n_iter = 500\n",
    "k = 100\n",
    "total_area_city = 1485*1000*1000\n",
    "total_cell_area = k*cell_size**2\n",
    "lambda_days = copy.deepcopy(S)\n",
    "lambda_ = np.zeros((int(sum(N1)), 1))\n",
    "PAI_test = np.zeros((n_iter, 1))\n",
    "PAI_train = np.zeros((n_iter, 1))\n",
    "Y_top_test = []\n",
    "Y_top_train = []\n",
    "top_locations = []\n",
    "learning_rate = 0.00025\n",
    "\n",
    "for i in range(n_iter):\n",
    "\n",
    "    for j in range(train_n_days):\n",
    "        lambda_days[j] = grad_calc_on(Y_train[j], S[j], k)  \n",
    "    \n",
    "    lambda_[:int(N1[0])] = lambda_days[0]\n",
    "    for j in range(1, train_n_days):\n",
    "        start = int(sum(N1[:j]))\n",
    "        end = int(sum(N1[:j+1]))\n",
    "        lambda_[start: end] = lambda_days[j]\n",
    "\n",
    "    sample = int(sum(N1))\n",
    "    size = int(np.ceil(sample/4))\n",
    "    index = np.random.choice(sample, size, replace=False)\n",
    "    \n",
    "    regressor = DecisionTreeRegressor(random_state=0, \n",
    "                                    min_samples_leaf=100,\n",
    "                                    ccp_alpha=0.015)\n",
    "    tree = regressor.fit(XTR[index], lambda_[index])\n",
    "\n",
    "    for j in range(train_n_days):\n",
    "        x_train = np.concatenate([np.reshape(X_train[j][k], (-1,1)) \n",
    "                                        for k in range(4)], axis=1)\n",
    "        S[j] = S[j] + np.reshape(learning_rate * tree.predict(x_train), (-1,1))\n",
    "\n",
    "    for j in range(test_n_days):\n",
    "        St[j] = St[j] + np.reshape(learning_rate * \n",
    "                                    tree.predict(np.squeeze(X_test[j]).T), (-1,1))\n",
    "\n",
    "    \n",
    "    PAI, y = PAI_error(Y_train, S, k)\n",
    "    PAI_train[i] = PAI / (total_cell_area / total_area_city)\n",
    "    Y_top_train.append(y)\n",
    "\n",
    "    PAI, y, locations = PAI_error_off(Y_test, St, k, cell_locations_test)\n",
    "    PAI_test[i] = PAI / (total_cell_area / total_area_city)\n",
    "    Y_top_test.append(y)\n",
    "    top_locations.append(locations)\n",
    "\n",
    "    print(i)"
   ]
  },
  {
   "cell_type": "code",
   "execution_count": 102,
   "metadata": {
    "scrolled": true
   },
   "outputs": [],
   "source": [
    "with open('Y_train', 'rb') as fp:\n",
    "    Y_train = pickle.load(fp)\n",
    "\n",
    "with open('X_train', 'rb') as fp:\n",
    "    X_train = pickle.load(fp)\n",
    "\n",
    "with open('X_test', 'rb') as fp:\n",
    "    X_test = pickle.load(fp)\n",
    "\n",
    "with open('Y_test', 'rb') as fp:\n",
    "    Y_test = pickle.load(fp)"
   ]
  }
 ],
 "metadata": {
  "kernelspec": {
   "display_name": "Python 3",
   "language": "python",
   "name": "python3"
  },
  "language_info": {
   "codemirror_mode": {
    "name": "ipython",
    "version": 3
   },
   "file_extension": ".py",
   "mimetype": "text/x-python",
   "name": "python",
   "nbconvert_exporter": "python",
   "pygments_lexer": "ipython3",
   "version": "3.7.4"
  }
 },
 "nbformat": 4,
 "nbformat_minor": 4
}
